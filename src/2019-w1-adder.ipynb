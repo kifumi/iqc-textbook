{
 "cells": [
  {
   "cell_type": "markdown",
   "metadata": {},
   "source": [
    "# 量子回路における加算器（2019年 Week1）\n",
    "この週では、量子回路を用いて単純な古典計算(加算)を行います。"
   ]
  },
  {
   "cell_type": "code",
   "execution_count": null,
   "metadata": {},
   "outputs": [],
   "source": [
    "from qiskit import QuantumRegister, ClassicalRegister, QuantumCircuit\n",
    "from qiskit import IBMQ, Aer, execute"
   ]
  },
  {
   "cell_type": "markdown",
   "metadata": {},
   "source": [
    "## 基本的な操作と量子ゲート  \n",
    "量子回路は、量子計算の過程を記述する手法の１つで、基本的な操作を行う量子ゲートを組み合わせて構成されます。まず、いくつかの主要な量子ゲートをご紹介します。"
   ]
  },
  {
   "cell_type": "markdown",
   "metadata": {},
   "source": [
    "### Xゲート\n",
    "Xゲートはブロッホ球の$x$軸周りの$\\pi$回転です。\n",
    "|0>にXゲートを適用すると|1>、|1>にXゲートを適用すると|0>になるので、古典のNOTゲートのような操作が実現でき、ビット反転とも呼ばれます。\n",
    "\n",
    "$X = \\begin{pmatrix}\n",
    "0 & 1 \\\\\n",
    "1 & 0 \\\\\n",
    "\\end{pmatrix}$"
   ]
  },
  {
   "cell_type": "code",
   "execution_count": null,
   "metadata": {},
   "outputs": [],
   "source": [
    "q = QuantumRegister(1)\n",
    "qc = QuantumCircuit(q)\n",
    "qc.x(q[0])\n",
    "qc.draw(output='mpl')"
   ]
  },
  {
   "cell_type": "markdown",
   "metadata": {},
   "source": [
    "### Zゲート\n",
    "Zゲートはブロッホ球の$z$軸周りの$\\pi$回転です。位相反転とも呼ばれます。\n",
    "\n",
    "$Z = \\begin{pmatrix}\n",
    "1 & 0 \\\\\n",
    "0 & -1 \\\\\n",
    "\\end{pmatrix}$"
   ]
  },
  {
   "cell_type": "code",
   "execution_count": null,
   "metadata": {},
   "outputs": [],
   "source": [
    "q = QuantumRegister(1)\n",
    "qc = QuantumCircuit(q)\n",
    "qc.z(q[0])\n",
    "qc.draw(output='mpl')"
   ]
  },
  {
   "cell_type": "markdown",
   "metadata": {},
   "source": [
    "### Hゲート\n",
    "Hadamardゲート(アダマールゲート)はブロッホ球の$x$軸と$z$軸の中間の軸周りの$\\pi$回転です。\n",
    "例えば|0>にHゲートを適用すると、$\\frac{|0> + |1>}{\\sqrt{2}}$のような重ね合わせ状態を作ることができます。\n",
    "\n",
    "$H = \\frac{1}{\\sqrt{2}}\\begin{pmatrix}\n",
    "1 & 1 \\\\\n",
    "1 & -1 \\\\\n",
    "\\end{pmatrix}$"
   ]
  },
  {
   "cell_type": "code",
   "execution_count": null,
   "metadata": {},
   "outputs": [],
   "source": [
    "q = QuantumRegister(1)\n",
    "qc = QuantumCircuit(q)\n",
    "qc.h(q[0])\n",
    "qc.draw(output='mpl')"
   ]
  },
  {
   "cell_type": "markdown",
   "metadata": {},
   "source": [
    "### CXゲート(CNOTゲート)\n",
    "CXゲートは制御NOTゲート、CNOTとも呼ばれます。CXゲートは、２つの量子ビット(制御量子ビットとターゲット量子ビットと呼びます)を入出力に持ち、制御量子ビットが|1>のときに、ターゲット量子ビットに対してビット反転(Xゲート)を行います。\n",
    "\n",
    "$CX = \\begin{pmatrix}\n",
    "1 & 0 & 0 & 0\\\\\n",
    "0 & 1 & 0 & 0\\\\\n",
    "0 & 0 & 0 & 1\\\\\n",
    "0 & 0 & 1 & 0\\\\\n",
    "\\end{pmatrix}$"
   ]
  },
  {
   "cell_type": "code",
   "execution_count": null,
   "metadata": {},
   "outputs": [],
   "source": [
    "q = QuantumRegister(2)\n",
    "qc = QuantumCircuit(q)\n",
    "qc.cx(q[0],q[1])\n",
    "qc.draw(output='mpl')"
   ]
  },
  {
   "cell_type": "markdown",
   "metadata": {},
   "source": [
    "### CZゲート\n",
    "CZゲートも、２つの量子ビット(制御量子ビットとターゲット量子ビットと呼びます)を入出力に持ち、制御量子ビットが|1>のときに、ターゲット量子ビットに対して位相反転(Zゲート)を行います。\n",
    "\n",
    "$CZ = \\begin{pmatrix}\n",
    "1 & 0 & 0 & 0\\\\\n",
    "0 & 1 & 0 & 0\\\\\n",
    "0 & 0 & 1 & 0\\\\\n",
    "0 & 0 & 0 & -1\\\\\n",
    "\\end{pmatrix}$"
   ]
  },
  {
   "cell_type": "code",
   "execution_count": null,
   "metadata": {},
   "outputs": [],
   "source": [
    "q = QuantumRegister(2)\n",
    "qc = QuantumCircuit(q)\n",
    "qc.cz(q[0],q[1])\n",
    "qc.draw(output='mpl')"
   ]
  },
  {
   "cell_type": "markdown",
   "metadata": {},
   "source": [
    "なお、CZゲートはCXゲートとHゲートから作ることができます。"
   ]
  },
  {
   "cell_type": "code",
   "execution_count": null,
   "metadata": {},
   "outputs": [],
   "source": [
    "q = QuantumRegister(2)\n",
    "qc = QuantumCircuit(q)\n",
    "\n",
    "qc.h(q[1])\n",
    "qc.cx(q[0],q[1])\n",
    "qc.h(q[1])\n",
    "qc.draw(output='mpl')"
   ]
  },
  {
   "cell_type": "markdown",
   "metadata": {},
   "source": [
    "### CCXゲート\n",
    "CCXゲートはToffoliゲートとも呼ばれます。\n",
    "\n",
    "CCXゲートは、3つの量子ビット(2つの制御量子ビットと1つのターゲット量子ビット)を入出力に持ち、制御量子ビットが2つとも|1>のときに、ターゲット量子ビットに対してビット反転(Xゲート)を行います。\n",
    "\n",
    "$CCX = \\begin{pmatrix}\n",
    "1 & 0 & 0 & 0 & 0 & 0 & 0 & 0\\\\\n",
    "0 & 1 & 0 & 0 & 0 & 0 & 0 & 0\\\\\n",
    "0 & 0 & 1 & 0 & 0 & 0 & 0 & 0\\\\\n",
    "0 & 0 & 0 & 0 & 0 & 0 & 0 & 1\\\\\n",
    "0 & 0 & 0 & 0 & 1 & 0 & 0 & 0\\\\\n",
    "0 & 0 & 0 & 0 & 0 & 1 & 0 & 0\\\\\n",
    "0 & 0 & 0 & 0 & 0 & 0 & 1 & 0\\\\\n",
    "0 & 0 & 0 & 1 & 0 & 0 & 0 & 0\\\\\n",
    "\\end{pmatrix}$"
   ]
  },
  {
   "cell_type": "code",
   "execution_count": null,
   "metadata": {},
   "outputs": [],
   "source": [
    "q = QuantumRegister(3)\n",
    "qc = QuantumCircuit(q)\n",
    "qc.ccx(q[0],q[1],q[2])\n",
    "qc.draw(output='mpl')"
   ]
  },
  {
   "cell_type": "markdown",
   "metadata": {},
   "source": [
    "その他の量子ゲートの詳細に関しては[Summary of Quantum Operations](https://github.com/Qiskit/qiskit-iqx-tutorials/blob/master/qiskit/fundamentals/7_summary_of_quantum_operations.ipynb) をご覧ください。"
   ]
  },
  {
   "cell_type": "markdown",
   "metadata": {},
   "source": [
    "## 古典の論理ゲートを量子ゲートで作成する\n",
    "古典の論理ゲートを量子ゲートで作成してみましょう。\n",
    "真理値表と量子回路による表現を以下に示します。なお、量子レジスタをq、古典レジスタをcとし、測定結果を作成する論理ゲートの出力とします。"
   ]
  },
  {
   "cell_type": "markdown",
   "metadata": {},
   "source": [
    "### NOTゲート\n",
    "先述の通り、XゲートをNOTゲートとみなすことができます。 真理値表は以下のようになります。\n",
    "\n",
    "\n",
    "|入力|出力|\n",
    "|--|--|\n",
    "|0|1|\n",
    "|1|0|"
   ]
  },
  {
   "cell_type": "code",
   "execution_count": null,
   "metadata": {},
   "outputs": [],
   "source": [
    "q = QuantumRegister(1)\n",
    "c = ClassicalRegister(1)\n",
    "qc = QuantumCircuit(q,c)\n",
    "qc.x(q[0])\n",
    "qc.measure(q[0], c[0])\n",
    "qc.draw(output='mpl')"
   ]
  },
  {
   "cell_type": "markdown",
   "metadata": {},
   "source": [
    "### ANDゲート\n",
    "ANDゲートの真理値表は以下のようなものです。\n",
    "\n",
    "|入力A|入力B|出力|\n",
    "|--|--|--|\n",
    "|0|0|0|\n",
    "|0|1|0|\n",
    "|1|0|0|\n",
    "|1|1|1|\n",
    "\n",
    "CCXゲートを用いると、制御量子ビット2つに対するANDゲートの結果をターゲット量子ビットに得られます。"
   ]
  },
  {
   "cell_type": "code",
   "execution_count": null,
   "metadata": {},
   "outputs": [],
   "source": [
    "q = QuantumRegister(3)\n",
    "c = ClassicalRegister(1)\n",
    "qc = QuantumCircuit(q,c)\n",
    "qc.ccx(q[0], q[1], q[2])\n",
    "qc.measure(q[2], c[0])\n",
    "qc.draw(output='mpl')"
   ]
  },
  {
   "cell_type": "markdown",
   "metadata": {},
   "source": [
    "### NANDゲート\n",
    "NANDゲートはANDゲートにNOTゲートを適用したものと捉えることができます。\n",
    "\n",
    "|入力A|入力B|出力|\n",
    "|--|--|--|\n",
    "|0|0|1|\n",
    "|0|1|1|\n",
    "|1|0|1|\n",
    "|1|1|0|"
   ]
  },
  {
   "cell_type": "code",
   "execution_count": null,
   "metadata": {},
   "outputs": [],
   "source": [
    "q = QuantumRegister(3)\n",
    "c = ClassicalRegister(1)\n",
    "qc = QuantumCircuit(q,c)\n",
    "qc.ccx(q[0], q[1], q[2])\n",
    "qc.x(q[2])\n",
    "qc.measure(q[2], c[0])\n",
    "qc.draw(output='mpl')"
   ]
  },
  {
   "cell_type": "markdown",
   "metadata": {},
   "source": [
    "### ORゲート\n",
    "\n",
    "|入力A|入力B|出力|\n",
    "|--|--|--|\n",
    "|0|0|0|\n",
    "|0|1|1|\n",
    "|1|0|1|\n",
    "|1|1|1|"
   ]
  },
  {
   "cell_type": "code",
   "execution_count": null,
   "metadata": {},
   "outputs": [],
   "source": [
    "q = QuantumRegister(3)\n",
    "c = ClassicalRegister(1)\n",
    "qc = QuantumCircuit(q,c)\n",
    "\n",
    "qc.cx(q[1], q[2])\n",
    "qc.cx(q[0], q[2])\n",
    "qc.ccx(q[0], q[1], q[2])\n",
    "qc.measure(q[2], c[0])\n",
    "qc.draw(output='mpl')"
   ]
  },
  {
   "cell_type": "markdown",
   "metadata": {},
   "source": [
    "### XORゲート\n",
    "|入力A|入力B|出力|\n",
    "|--|--|--|\n",
    "|0|0|0|\n",
    "|0|1|1|\n",
    "|1|0|1|\n",
    "|1|1|0|"
   ]
  },
  {
   "cell_type": "code",
   "execution_count": null,
   "metadata": {},
   "outputs": [],
   "source": [
    "q = QuantumRegister(3)\n",
    "c = ClassicalRegister(1)\n",
    "qc = QuantumCircuit(q,c)\n",
    "qc.cx(q[1], q[2])\n",
    "qc.cx(q[0], q[2])\n",
    "qc.measure(q[2], c[0])\n",
    "qc.draw(output='mpl')"
   ]
  },
  {
   "cell_type": "markdown",
   "metadata": {},
   "source": [
    "### NORゲート \n",
    "\n",
    "|入力A|入力B|出力|\n",
    "|--|--|--|\n",
    "|0|0|1|\n",
    "|0|1|0|\n",
    "|1|0|0|\n",
    "|1|1|0|"
   ]
  },
  {
   "cell_type": "code",
   "execution_count": null,
   "metadata": {},
   "outputs": [],
   "source": [
    "q = QuantumRegister(3)\n",
    "c = ClassicalRegister(1)\n",
    "qc = QuantumCircuit(q,c)\n",
    "\n",
    "qc.cx(q[1], q[2])\n",
    "qc.cx(q[0], q[2])\n",
    "qc.ccx(q[0], q[1], q[2])\n",
    "qc.x(q[2])\n",
    "qc.measure(q[2], c[0])\n",
    "qc.draw(output='mpl')"
   ]
  },
  {
   "cell_type": "markdown",
   "metadata": {},
   "source": [
    "## 加算器\n",
    "\n",
    "加算器は足し算を行う論理回路です。\n",
    "\n",
    "今回は最もシンプルな加算器である半加算器と全加算器を用いた加算器に関して考えます。"
   ]
  },
  {
   "cell_type": "markdown",
   "metadata": {},
   "source": [
    "## 半加算器\n",
    "半加算器は、２進数を2つ与えられたとき、一番下の位の値どうしの加算を行います。\n",
    "1ビットの情報2つ(入力A,B)が入力として与えられ、桁上げ出力(Carry out)、出力（Sum、和）の２つを出力に持ちます。\n",
    "この桁上げ出力の情報は、後述の全加算器の入力の１つとして１つ上の位の値を求めるために用いられます。\n",
    "\n",
    "\n",
    "半加算器は以下の様な真理値表の論理回路で表すことができます。\n",
    "\n",
    "|入力A|入力B|桁上げ出力C|出力S|\n",
    "|-----------|------------|------------|------------|\n",
    "|0|0|0|0|\n",
    "|0|1|0|1|\n",
    "|1|0|0|1|\n",
    "|1|1|1|0|\n",
    "\n",
    "この真理値表を見ると、桁上げ出力Cは入力Aと入力Bに対してANDを適用したものであること、出力Sは入力Aと入力Bに対してXORを適用したものであることがわかります。\n",
    "ANDとXORに関してはすでに作成済みなので、以下のように組み合わせて半加算器の量子回路が作成できます。\n",
    "\n",
    "なお、量子レジスタをq, 古典レジスタcとし、入力A, Bをq[0],q[1]に、桁上げ出力C,出力Sをq[2], q[3]に割り振ります。\n",
    "また、出力結果はc[1], c[0]の順になっていることに注意して下さい。"
   ]
  },
  {
   "cell_type": "code",
   "execution_count": null,
   "metadata": {},
   "outputs": [],
   "source": [
    "#各レジスタ、量子回路を宣言\n",
    "q = QuantumRegister(5)\n",
    "c = ClassicalRegister(2)\n",
    "qc = QuantumCircuit(q,c)\n",
    "\n",
    "#AND\n",
    "qc.ccx(q[0], q[1], q[2])\n",
    "\n",
    "qc.barrier(q)\n",
    "\n",
    "#XOR\n",
    "qc.cx(q[1], q[3])\n",
    "qc.cx(q[0], q[3])\n",
    "\n",
    "qc.barrier(q)\n",
    "\n",
    "#Carry out\n",
    "qc.measure(q[2], c[0])\n",
    "#Sum\n",
    "qc.measure(q[3], c[1])\n",
    "\n",
    "backend = Aer.get_backend('qasm_simulator')\n",
    "job = execute(qc, backend, shots=1000)\n",
    "result = job.result()\n",
    "count =result.get_counts()\n",
    "print(count)\n",
    "qc.draw(output='mpl')"
   ]
  },
  {
   "cell_type": "markdown",
   "metadata": {},
   "source": [
    "## 重要: Unrollerを用いた量子コストの導出\n",
    "プログラム(量子回路)を評価する手法がいくつか存在します。\n",
    "\n",
    "1. 量子ビット数\n",
    "2. 深さ\n",
    "3. 実行速度\n",
    "4. 命令数\n",
    "\n",
    "これらはどれも量子計算の結果やスループットなどに影響する重要な尺度ですが、今回のQuantum Challengeでは特に4の命令数を指標として、以下のようにプログラムを評価しています。今回の手法で用いる値をコストと呼称します。\n",
    "\n",
    "コスト $=$ 単一量子ビットゲートの数 $+$ CXゲートの数 $\\times 10$\n",
    "\n",
    "任意の量子回路は単一量子ビットゲート(1量子ビットに対する命令)と2量子ビットゲートに対する命令に分解して同等な回路を構築することができます。また、現代のデバイスではCXゲートの方がノイズが乗りやすいので10倍の重み付けをしています。\n",
    "\n",
    "unrollerと呼ばれるプログラムを用いることで、皆さんのお手元でもこのコストを導出することができます。\n",
    "例えば、以下のような量子回路があったとします。"
   ]
  },
  {
   "cell_type": "code",
   "execution_count": null,
   "metadata": {},
   "outputs": [],
   "source": [
    "import numpy as np\n",
    "from qiskit import QuantumCircuit, ClassicalRegister, QuantumRegister\n",
    "from qiskit import BasicAer, execute\n",
    "from qiskit.quantum_info import Pauli, state_fidelity, process_fidelity\n",
    "q = QuantumRegister(4, 'q0')\n",
    "c = ClassicalRegister(1, 'c0')\n",
    "qc = QuantumCircuit(q, c)\n",
    "qc.ccx(q[0], q[1], q[2])\n",
    "qc.cx(q[3], q[1])\n",
    "qc.h(q[3])\n",
    "qc.ccx(q[3], q[2], q[1])\n",
    "qc.measure(q[3],c[0])\n",
    "qc.draw(output='mpl')"
   ]
  },
  {
   "cell_type": "code",
   "execution_count": null,
   "metadata": {},
   "outputs": [],
   "source": [
    "qc.count_ops()"
   ]
  },
  {
   "cell_type": "markdown",
   "metadata": {},
   "source": [
    "この量子回路には単一量子ビットゲートやCXゲート以外のゲート(CCXゲート)が入っていますが、以下のようにunroller内で指定したゲートのみに分解することができます。"
   ]
  },
  {
   "cell_type": "code",
   "execution_count": null,
   "metadata": {},
   "outputs": [],
   "source": [
    "from qiskit.transpiler import PassManager\n",
    "from qiskit.transpiler.passes import Unroller\n",
    "pass_ = Unroller(['u3', 'cx'])\n",
    "pm = PassManager(pass_)\n",
    "new_circuit = pm.run(qc) \n",
    "new_circuit.draw(output='mpl')"
   ]
  },
  {
   "cell_type": "code",
   "execution_count": null,
   "metadata": {},
   "outputs": [],
   "source": [
    "new_circuit.count_ops()"
   ]
  },
  {
   "cell_type": "markdown",
   "metadata": {},
   "source": [
    "よって、この回路のコストは$19+13\\times10=149$ということになります。\n",
    "\n",
    "単一量子ビットゲートやCXゲート以外のゲートが、Unrollerによってどのように分解されるかは簡単に確認できるので、興味がある人は自分で調べてみましょう。以下ではサンプルとして、CCXゲートを単一量子ビットゲートとCXゲートに分解しています。"
   ]
  },
  {
   "cell_type": "code",
   "execution_count": null,
   "metadata": {},
   "outputs": [],
   "source": [
    "q = QuantumRegister(3, 'q0')\n",
    "c = ClassicalRegister(1, 'c0')\n",
    "qc = QuantumCircuit(q, c)\n",
    "qc.ccx(q[0], q[1], q[2])\n",
    "qc.draw(output='mpl')"
   ]
  },
  {
   "cell_type": "code",
   "execution_count": null,
   "metadata": {},
   "outputs": [],
   "source": [
    "pass_ = Unroller(['u3', 'cx'])\n",
    "pm = PassManager(pass_)\n",
    "new_circuit = pm.run(qc) \n",
    "new_circuit.draw(output='mpl')"
   ]
  },
  {
   "cell_type": "code",
   "execution_count": null,
   "metadata": {},
   "outputs": [],
   "source": [
    "new_circuit.count_ops()"
   ]
  },
  {
   "cell_type": "markdown",
   "metadata": {},
   "source": [
    "上記の回路のコストは$9+6\\times10=69$ということになります。"
   ]
  },
  {
   "cell_type": "markdown",
   "metadata": {},
   "source": [
    "## 問題\n",
    "全加算器は、下の位からの桁上げを含む加算器である。\n",
    "全加算器を量子回路で表現せよ。なお、真理値表は以下のようになる。\n",
    "\n",
    "|入力A|入力B|桁上げ入力X|桁上げ出力C|出力S|\n",
    "|--|--|--|--|--|\n",
    "|0|0|0|0|0|\n",
    "|0|0|1|0|1|\n",
    "|0|1|0|0|1|\n",
    "|0|1|1|1|0|\n",
    "|1|0|0|0|1|\n",
    "|1|0|1|1|0|\n",
    "|1|1|0|1|0|\n",
    "|1|1|1|1|1|\n",
    "\n",
    "\n",
    "なお、量子レジスタをq, 古典レジスタcとする。また、入力A, B, 桁上げ入力Xをそれぞれq[0], q[1], q[2]に与えられるものとし、測定結果のc[0]に桁上げ出力C、c[1]に出力Sが出力されるようにすること。\n",
    "\n",
    "入力000から111までの出力結果をカンマで区切ったものと、入力000の全加算器に対してunrollerを用いて単一量子ビットゲート(u3)とCXに分解した結果を出力せよ   \n",
    "例  \n",
    "00,01,01,10,01,...改行  \n",
    "u3: 27, cx: 24"
   ]
  },
  {
   "cell_type": "markdown",
   "metadata": {},
   "source": [
    "````{dropdown} 解答 ~全加算器の量子回路~\n",
    "```python\n",
    "\n",
    "#----事前準備----\n",
    "#各レジスタ、量子回路を宣言\n",
    "from qiskit import QuantumRegister, ClassicalRegister, QuantumCircuit\n",
    "from qiskit import IBMQ, Aer, execute\n",
    "\n",
    "#Define registers and a quantum circuit\n",
    "q = QuantumRegister(8)\n",
    "c = ClassicalRegister(2)\n",
    "qc = QuantumCircuit(q,c)\n",
    "\n",
    "# 入力状態の準備（テスト用）\n",
    "# inputdata = [0,0,0] \n",
    "# if inputdata[0] == 0:\n",
    "#     print('0')\n",
    "# else: \n",
    "#     qc.x(q[0])\n",
    "#     print('1')\n",
    "# if inputdata[1] == 0:\n",
    "#     print('0')    \n",
    "# else: \n",
    "#     qc.x(q[1])\n",
    "#     print('1')\n",
    "# if inputdata[2] == 0:\n",
    "#     print('0')    \n",
    "# else: \n",
    "#     qc.x(q[2])\n",
    "#     print('1')\n",
    "\n",
    "#OR\n",
    "def OR(a,b,c):\n",
    "    qc.cx(q[b], q[c])\n",
    "    qc.cx(q[a], q[c])\n",
    "    qc.ccx(q[a], q[b], q[c])\n",
    "#半加算器\n",
    "def hadder(a,b,s,c):\n",
    "    #XOR\n",
    "    qc.cx(q[b], q[s])\n",
    "    qc.cx(q[a], q[s])\n",
    "    #AND\n",
    "    qc.ccx(q[a], q[b], q[c])\n",
    "    \n",
    "#----ここから処理スタート----\n",
    "\n",
    "#半加算器1\n",
    "hadder(0,1,4,3)\n",
    "qc.barrier(q)\n",
    "#半加算器2\n",
    "hadder(4,2,6,5)\n",
    "qc.barrier(q)\n",
    "#OR\n",
    "OR(3,5,7)\n",
    "qc.barrier(q)\n",
    "#観測\n",
    "qc.measure(q[6], c[0])\n",
    "qc.measure(q[7], c[1])\n",
    "\n",
    "#----試行結果出力処理----\n",
    "\n",
    "backend = Aer.get_backend('qasm_simulator')\n",
    "#作成した回路を1000回動かす\n",
    "job = execute(qc, backend, shots=1000)\n",
    "result = job.result()\n",
    "count =result.get_counts()\n",
    "#結果の出力\n",
    "print(count)\n",
    "qc.draw(output='mpl')\n",
    "```\n",
    "````"
   ]
  },
  {
   "cell_type": "markdown",
   "metadata": {},
   "source": [
    "```{admonition} 解説\n",
    ":class: tip\n",
    "\n",
    "![](./resources/2019-fall-adder.png)\n",
    "\n",
    "半加算器２つとORを使うことで全加算器を実装することができます。\n",
    "\n",
    "今回は半加算器とORを関数にしてまとめています。  \n",
    "関数の中身は上で解説済みなので省略します。  \n",
    "\n",
    "----事前準備----  \n",
    "古典レジスタ(C, S用の2つ)  \n",
    "量子レジスタ(入出力保存用の8つ)  \n",
    "A, B, Xの入力値を決める(inputdata = [x,x,x]を任意の値にしてif-elseのコメントアウトを全て外す)。  \n",
    "何もしなければA, B, X = 0として処理が動きます。  \n",
    "\n",
    "入力値A, B, Xは量子レジスタの[0], [1], [2]に保持されます。  \n",
    "\n",
    "----処理の解説----  \n",
    "処理は左から順番に進めます。  \n",
    "\n",
    "半加算器1では入力値A, Bをそのまま使用します。  \n",
    "そして出力される値C, Sを量子レジスタ[3], [4]に格納します。  \n",
    "\n",
    "次に半加算器2の処理に移ります。  \n",
    "半加算器2に入力される値は前の処理(半加算器1)の出力結果Sと初めの入力値Xです。  \n",
    "量子レジスタのインデックス番号で表すと、[4]と[2]にあたります。  \n",
    "半加算器2の処理結果C, Sをそれぞれ量子レジスタ[5], [6]に格納します。  \n",
    "\n",
    "次に半加算器1の出力結果C([3])と半加算器2の出力結果C([5])をORに渡します。  \n",
    "出力される値を量子レジスタ[7]に格納します。  \n",
    "\n",
    "最後に出力結果C, Sを求めます。  \n",
    "観測する量子レジスタはS:[6],C:[7]です。  \n",
    "観測結果をそれぞれ古典レジスタの[0], [1]に格納します。  \n",
    "\n",
    "----出力結果の説明----  \n",
    "左側が出力された値、右側が観測された回数を指します。    \n",
    "例えば{'00':1000}と表示された場合は、00という結果が1000回計算されたことを表します  \n",
    "```"
   ]
  },
  {
   "cell_type": "markdown",
   "metadata": {},
   "source": [
    "````{dropdown} 解答2 ~出力結果とUnrollerによる分解~\n",
    "```python\n",
    "#Unrollerを使って回路をu3とcxゲートに分解してみましょう。\n",
    "pass_ = Unroller(['u3', 'cx'])\n",
    "pm = PassManager(pass_)\n",
    "new_circuit = pm.run(qc) \n",
    "new_circuit.draw(output='mpl')\n",
    "\n",
    "#最後に、量子コストを算出しましょう\n",
    "new_circuit.count_ops()\n",
    "\n",
    "#今回の解答例の量子回路のコストは：$27+24\\times10=267$ となります\n",
    "```\n",
    "````"
   ]
  },
  {
   "cell_type": "code",
   "execution_count": null,
   "metadata": {},
   "outputs": [],
   "source": []
  }
 ],
 "metadata": {
  "kernelspec": {
   "display_name": "Python 3 (ipykernel)",
   "language": "python",
   "name": "python3"
  },
  "language_info": {
   "codemirror_mode": {
    "name": "ipython",
    "version": 3
   },
   "file_extension": ".py",
   "mimetype": "text/x-python",
   "name": "python",
   "nbconvert_exporter": "python",
   "pygments_lexer": "ipython3",
   "version": "3.11.3"
  },
  "widgets": {
   "application/vnd.jupyter.widget-state+json": {
    "state": {},
    "version_major": 2,
    "version_minor": 0
   }
  }
 },
 "nbformat": 4,
 "nbformat_minor": 4
}
